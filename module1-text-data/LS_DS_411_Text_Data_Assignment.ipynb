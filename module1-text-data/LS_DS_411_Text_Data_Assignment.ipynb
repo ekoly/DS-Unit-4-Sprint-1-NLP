{
 "cells": [
  {
   "cell_type": "markdown",
   "metadata": {},
   "source": [
    "<img align=\"left\" src=\"https://lever-client-logos.s3.amazonaws.com/864372b1-534c-480e-acd5-9711f850815c-1524247202159.png\" width=200>\n",
    "<br></br>\n",
    "<br></br>\n",
    "\n",
    "# Natural Language Processing (NLP)\n",
    "## *Data Science Unit 4 Sprint 1 Assignment 1*\n",
    "\n",
    "Your goal in this assignment: find the attributes of the best & worst coffee shops in the dataset. The text is fairly raw: dates in the review, extra words in the `star_rating` column, etc. You'll probably want to clean that stuff up for a better analysis. \n",
    "\n",
    "Analyze the corpus of text using text visualizations of token frequency. Try cleaning the data as much as possible. Try the following techniques: \n",
    "- Lemmatization\n",
    "- Custom stopword removal\n",
    "\n",
    "Keep in mind the attributes of good tokens. Once you have a solid baseline, layer in the star rating in your visualization(s). Key part of this assignment - produce a write-up of the attributes of the best and worst coffee shops. Based on your analysis, what makes the best the best and the worst the worst. Use graphs and numbesr from your analysis to support your conclusions. There should be plenty of markdown cells! :coffee:"
   ]
  },
  {
   "cell_type": "code",
   "execution_count": 1,
   "metadata": {},
   "outputs": [
    {
     "data": {
      "image/jpeg": "[encoded data removed]",
      "text/html": [
       "\n",
       "        <iframe\n",
       "            width=\"400\"\n",
       "            height=\"300\"\n",
       "            src=\"https://www.youtube.com/embed/Jml7NVYm8cs\"\n",
       "            frameborder=\"0\"\n",
       "            allowfullscreen\n",
       "        ></iframe>\n",
       "        "
      ],
      "text/plain": [
       "<IPython.lib.display.YouTubeVideo at 0x7ff3e471a630>"
      ]
     },
     "execution_count": 1,
     "metadata": {},
     "output_type": "execute_result"
    }
   ],
   "source": [
    "from IPython.display import YouTubeVideo\n",
    "\n",
    "YouTubeVideo('Jml7NVYm8cs')"
   ]
  },
  {
   "cell_type": "code",
   "execution_count": 2,
   "metadata": {},
   "outputs": [
    {
     "data": {
      "text/plain": [
       "'/media/shared/projects/lambda/DS-Unit-4-Sprint-1-NLP/module1-text-data'"
      ]
     },
     "execution_count": 2,
     "metadata": {},
     "output_type": "execute_result"
    }
   ],
   "source": [
    "%pwd"
   ]
  },
  {
   "cell_type": "code",
   "execution_count": 4,
   "metadata": {},
   "outputs": [
    {
     "data": {
      "text/html": [
       "<div>\n",
       "<style scoped>\n",
       "    .dataframe tbody tr th:only-of-type {\n",
       "        vertical-align: middle;\n",
       "    }\n",
       "\n",
       "    .dataframe tbody tr th {\n",
       "        vertical-align: top;\n",
       "    }\n",
       "\n",
       "    .dataframe thead th {\n",
       "        text-align: right;\n",
       "    }\n",
       "</style>\n",
       "<table border=\"1\" class=\"dataframe\">\n",
       "  <thead>\n",
       "    <tr style=\"text-align: right;\">\n",
       "      <th></th>\n",
       "      <th>coffee_shop_name</th>\n",
       "      <th>full_review_text</th>\n",
       "      <th>star_rating</th>\n",
       "    </tr>\n",
       "  </thead>\n",
       "  <tbody>\n",
       "    <tr>\n",
       "      <th>0</th>\n",
       "      <td>The Factory - Cafe With a Soul</td>\n",
       "      <td>11/25/2016 1 check-in Love love loved the atm...</td>\n",
       "      <td>5.0 star rating</td>\n",
       "    </tr>\n",
       "    <tr>\n",
       "      <th>1</th>\n",
       "      <td>The Factory - Cafe With a Soul</td>\n",
       "      <td>12/2/2016 Listed in Date Night: Austin, Ambia...</td>\n",
       "      <td>4.0 star rating</td>\n",
       "    </tr>\n",
       "    <tr>\n",
       "      <th>2</th>\n",
       "      <td>The Factory - Cafe With a Soul</td>\n",
       "      <td>11/30/2016 1 check-in Listed in Brunch Spots ...</td>\n",
       "      <td>4.0 star rating</td>\n",
       "    </tr>\n",
       "    <tr>\n",
       "      <th>3</th>\n",
       "      <td>The Factory - Cafe With a Soul</td>\n",
       "      <td>11/25/2016 Very cool decor! Good drinks Nice ...</td>\n",
       "      <td>2.0 star rating</td>\n",
       "    </tr>\n",
       "    <tr>\n",
       "      <th>4</th>\n",
       "      <td>The Factory - Cafe With a Soul</td>\n",
       "      <td>12/3/2016 1 check-in They are located within ...</td>\n",
       "      <td>4.0 star rating</td>\n",
       "    </tr>\n",
       "  </tbody>\n",
       "</table>\n",
       "</div>"
      ],
      "text/plain": [
       "                  coffee_shop_name  \\\n",
       "0  The Factory - Cafe With a Soul    \n",
       "1  The Factory - Cafe With a Soul    \n",
       "2  The Factory - Cafe With a Soul    \n",
       "3  The Factory - Cafe With a Soul    \n",
       "4  The Factory - Cafe With a Soul    \n",
       "\n",
       "                                    full_review_text        star_rating  \n",
       "0   11/25/2016 1 check-in Love love loved the atm...   5.0 star rating   \n",
       "1   12/2/2016 Listed in Date Night: Austin, Ambia...   4.0 star rating   \n",
       "2   11/30/2016 1 check-in Listed in Brunch Spots ...   4.0 star rating   \n",
       "3   11/25/2016 Very cool decor! Good drinks Nice ...   2.0 star rating   \n",
       "4   12/3/2016 1 check-in They are located within ...   4.0 star rating   "
      ]
     },
     "execution_count": 4,
     "metadata": {},
     "output_type": "execute_result"
    }
   ],
   "source": [
    "import pandas as pd\n",
    "\n",
    "url = \"https://raw.githubusercontent.com/LambdaSchool/DS-Unit-4-Sprint-1-NLP/main/module1-text-data/data/yelp_coffeeshop_review_data.csv\"\n",
    "\n",
    "shops = pd.read_csv(url)\n",
    "shops.head()"
   ]
  },
  {
   "cell_type": "code",
   "execution_count": 5,
   "metadata": {},
   "outputs": [
    {
     "data": {
      "text/plain": [
       "dtype('float64')"
      ]
     },
     "execution_count": 5,
     "metadata": {},
     "output_type": "execute_result"
    }
   ],
   "source": [
    "import numpy as np\n",
    "\n",
    "shops[\"star_rating\"] = shops[\"star_rating\"].apply(lambda s: s.strip(\" star rating\"))\n",
    "shops[\"star_rating\"] = shops[\"star_rating\"].astype(np.float64)\n",
    "shops[\"star_rating\"].dtype"
   ]
  },
  {
   "cell_type": "code",
   "execution_count": 6,
   "metadata": {},
   "outputs": [
    {
     "data": {
      "text/html": [
       "<div>\n",
       "<style scoped>\n",
       "    .dataframe tbody tr th:only-of-type {\n",
       "        vertical-align: middle;\n",
       "    }\n",
       "\n",
       "    .dataframe tbody tr th {\n",
       "        vertical-align: top;\n",
       "    }\n",
       "\n",
       "    .dataframe thead th {\n",
       "        text-align: right;\n",
       "    }\n",
       "</style>\n",
       "<table border=\"1\" class=\"dataframe\">\n",
       "  <thead>\n",
       "    <tr style=\"text-align: right;\">\n",
       "      <th></th>\n",
       "      <th>coffee_shop_name</th>\n",
       "      <th>full_review_text</th>\n",
       "      <th>star_rating</th>\n",
       "    </tr>\n",
       "  </thead>\n",
       "  <tbody>\n",
       "    <tr>\n",
       "      <th>0</th>\n",
       "      <td>The Factory - Cafe With a Soul</td>\n",
       "      <td>11/25/2016 1 check-in Love love loved the atm...</td>\n",
       "      <td>5.0</td>\n",
       "    </tr>\n",
       "    <tr>\n",
       "      <th>1</th>\n",
       "      <td>The Factory - Cafe With a Soul</td>\n",
       "      <td>12/2/2016 Listed in Date Night: Austin, Ambia...</td>\n",
       "      <td>4.0</td>\n",
       "    </tr>\n",
       "    <tr>\n",
       "      <th>2</th>\n",
       "      <td>The Factory - Cafe With a Soul</td>\n",
       "      <td>11/30/2016 1 check-in Listed in Brunch Spots ...</td>\n",
       "      <td>4.0</td>\n",
       "    </tr>\n",
       "    <tr>\n",
       "      <th>3</th>\n",
       "      <td>The Factory - Cafe With a Soul</td>\n",
       "      <td>11/25/2016 Very cool decor! Good drinks Nice ...</td>\n",
       "      <td>2.0</td>\n",
       "    </tr>\n",
       "    <tr>\n",
       "      <th>4</th>\n",
       "      <td>The Factory - Cafe With a Soul</td>\n",
       "      <td>12/3/2016 1 check-in They are located within ...</td>\n",
       "      <td>4.0</td>\n",
       "    </tr>\n",
       "  </tbody>\n",
       "</table>\n",
       "</div>"
      ],
      "text/plain": [
       "                  coffee_shop_name  \\\n",
       "0  The Factory - Cafe With a Soul    \n",
       "1  The Factory - Cafe With a Soul    \n",
       "2  The Factory - Cafe With a Soul    \n",
       "3  The Factory - Cafe With a Soul    \n",
       "4  The Factory - Cafe With a Soul    \n",
       "\n",
       "                                    full_review_text  star_rating  \n",
       "0   11/25/2016 1 check-in Love love loved the atm...          5.0  \n",
       "1   12/2/2016 Listed in Date Night: Austin, Ambia...          4.0  \n",
       "2   11/30/2016 1 check-in Listed in Brunch Spots ...          4.0  \n",
       "3   11/25/2016 Very cool decor! Good drinks Nice ...          2.0  \n",
       "4   12/3/2016 1 check-in They are located within ...          4.0  "
      ]
     },
     "execution_count": 6,
     "metadata": {},
     "output_type": "execute_result"
    }
   ],
   "source": [
    "shops.head()"
   ]
  },
  {
   "cell_type": "code",
   "execution_count": 7,
   "metadata": {},
   "outputs": [
    {
     "data": {
      "text/plain": [
       "0   2016-11-25\n",
       "1   2016-12-02\n",
       "2   2016-11-30\n",
       "3   2016-11-25\n",
       "4   2016-12-03\n",
       "Name: date, dtype: datetime64[ns]"
      ]
     },
     "execution_count": 7,
     "metadata": {},
     "output_type": "execute_result"
    }
   ],
   "source": [
    "shops[\"date\"] = pd.to_datetime(shops[\"full_review_text\"].apply(lambda s: s.strip().split(\" \")[0]))\n",
    "shops[\"date\"].head()"
   ]
  },
  {
   "cell_type": "code",
   "execution_count": 8,
   "metadata": {},
   "outputs": [
    {
     "data": {
      "text/plain": [
       "0     11/25/2016 1 check-in Love love loved the atm...\n",
       "1     12/2/2016 Listed in Date Night: Austin, Ambia...\n",
       "2     11/30/2016 1 check-in Listed in Brunch Spots ...\n",
       "3     11/25/2016 Very cool decor! Good drinks Nice ...\n",
       "4     12/3/2016 1 check-in They are located within ...\n",
       "Name: full_review_text, dtype: object"
      ]
     },
     "execution_count": 8,
     "metadata": {},
     "output_type": "execute_result"
    }
   ],
   "source": [
    "shops[\"full_review_text\"].head()"
   ]
  },
  {
   "cell_type": "code",
   "execution_count": 9,
   "metadata": {},
   "outputs": [
    {
     "data": {
      "text/plain": [
       "' 12/2/2016 Listed in Date Night: Austin, Ambiance in Austin BEAUTIFUL!!!! Love the ambiance! Instagram-worthy!!!  Definitely $$$, so be prepared. This is gonna cost you a pretty penny :) Waffle dessert was just decent...nothing to rave about.  But, will probably be back just to be somewhere unique and nice. '"
      ]
     },
     "execution_count": 9,
     "metadata": {},
     "output_type": "execute_result"
    }
   ],
   "source": [
    "shops[\"full_review_text\"].iloc[1]"
   ]
  },
  {
   "cell_type": "markdown",
   "metadata": {},
   "source": [
    "### More Cleaning\n",
    "This can be done using stopwords but I'm using pure python for now"
   ]
  },
  {
   "cell_type": "code",
   "execution_count": 10,
   "metadata": {},
   "outputs": [
    {
     "name": "stdout",
     "output_type": "stream",
     "text": [
      " \"blah, blah, blah\" this is \n",
      " Americano this is\n"
     ]
    },
    {
     "data": {
      "text/plain": [
       "0     Love love loved the atmosphere! Every corner o...\n",
       "1     Date Night: Austin, Ambiance in Austin BEAUTIF...\n",
       "2     Brunch Spots I loved the eclectic and homey pl...\n",
       "3     Very cool decor! Good drinks Nice seating  How...\n",
       "4     They are located within the Northcross mall sh...\n",
       "5     Very cute cafe! I think from the moment I step...\n",
       "6     \"Nuptial Coffee Bliss!\", Anderson Lane is the ...\n",
       "7     Love this place!  5 stars for cleanliness 5 st...\n",
       "8     Ok, let's try this approach...  Pros: Music Se...\n",
       "9     This place has been shown on my social media f...\n",
       "10    Americano This is not your average cute study ...\n",
       "11    The store has A+ decoration, but honestly, the...\n",
       "12    2016 - The Third Time is a Charm! The Factory ...\n",
       "13    This is such a cute little cafe! I've driven b...\n",
       "14    Beautiful eccentric coffee shop with a library...\n",
       "15    In Search of Fantastic Coffee So, I really did...\n",
       "16    Really love the atmosphere here! I frequent co...\n",
       "17    Check out this video for a review! youtube.com...\n",
       "18    Note: Do not come here if you're looking for a...\n",
       "19    So much aesthetic in this place. I love every ...\n",
       "Name: review_text, dtype: object"
      ]
     },
     "execution_count": 10,
     "metadata": {},
     "output_type": "execute_result"
    }
   ],
   "source": [
    "import re\n",
    "\n",
    "stoppers = r'(\\d+\\s+check-ins?)|(Listed\\s+in\\s+)'\n",
    "print(re.sub(stoppers, \"\", \"2 check-ins Listed in \\\"blah, blah, blah\\\" this is \", flags=re.I))\n",
    "print(re.sub(stoppers, \"\", \"1 check-in Listed in Americano this is\"))\n",
    "def grab_text(s):\n",
    "    s = \" \".join(s.strip().split(\" \")[1:])\n",
    "    s = re.sub(stoppers, \"\", s)\n",
    "    return s.strip()\n",
    "    \n",
    "shops[\"review_text\"] = shops[\"full_review_text\"].apply(grab_text)\n",
    "shops[\"review_text\"].head(20)"
   ]
  },
  {
   "cell_type": "markdown",
   "metadata": {},
   "source": [
    "### Now try to do this with stop words"
   ]
  },
  {
   "cell_type": "code",
   "execution_count": 58,
   "metadata": {},
   "outputs": [],
   "source": [
    "import spacy\n",
    "from spacy.tokenizer import Tokenizer\n",
    "\n",
    "nlp = spacy.load(\"en_core_web_lg\")\n",
    "tokenizer = Tokenizer(nlp.vocab)"
   ]
  },
  {
   "cell_type": "code",
   "execution_count": 87,
   "metadata": {},
   "outputs": [
    {
     "data": {
      "text/plain": [
       "0    [love, love, love, atmosphere, corner, coffee,...\n",
       "1    [date, night, austin, ambiance, austin, beauti...\n",
       "2    [brunch, spots, love, eclectic, homey, plush, ...\n",
       "3    [cool, decor, good, drink, nice, seat, however...\n",
       "4    [locate, northcross, mall, shop, center, face,...\n",
       "Name: tokens, dtype: object"
      ]
     },
     "execution_count": 87,
     "metadata": {},
     "output_type": "execute_result"
    }
   ],
   "source": [
    "tokens = []\n",
    "for doc in tokenizer.pipe(shops[\"review_text\"], batch_size=500):\n",
    "    doc_tokens = [\n",
    "        re.sub(r\"[^a-z0-9]\", \"\", t.lemma_.lower()).strip() for t in doc\n",
    "        if not t.is_stop and not t.is_punct and t.text.strip()\n",
    "    ]\n",
    "    tokens.append(doc_tokens)\n",
    "\n",
    "shops[\"tokens\"] = tokens\n",
    "shops[\"tokens\"].head()"
   ]
  },
  {
   "cell_type": "code",
   "execution_count": null,
   "metadata": {},
   "outputs": [],
   "source": []
  },
  {
   "cell_type": "markdown",
   "metadata": {},
   "source": [
    "## How do we want to analyze these coffee shop tokens? \n",
    "\n",
    "- Overall Word / Token Count\n",
    "- View Counts by Rating \n",
    "- *Hint:* a 'bad' coffee shops has a rating betweeen 1 & 3 based on the distribution of ratings. A 'good' coffee shop is a 4 or 5. "
   ]
  },
  {
   "cell_type": "code",
   "execution_count": 88,
   "metadata": {},
   "outputs": [],
   "source": [
    "from collections import Counter\n",
    "\n",
    "# copied by hand, not copy/pasted\n",
    "def count(docs):\n",
    "    \n",
    "    word_counts = Counter()\n",
    "    appears_in = Counter()\n",
    "    \n",
    "    num_docs = len(docs)\n",
    "    \n",
    "    for doc in docs:\n",
    "        word_counts.update(doc)\n",
    "        appears_in.update(set(doc))\n",
    "    \n",
    "    wc = pd.DataFrame(\n",
    "        zip(\n",
    "            word_counts.keys(),\n",
    "            word_counts.values(),\n",
    "        ), columns = [\"word\", \"count\"]\n",
    "    )\n",
    "    \n",
    "    wc[\"rank\"] = wc[\"count\"].rank(method=\"first\", ascending=False)\n",
    "    total = wc[\"count\"].sum()\n",
    "    \n",
    "    wc[\"pct_total\"] = wc[\"count\"].apply(lambda x: x / total)\n",
    "    \n",
    "    wc = wc.sort_values(by=\"rank\")\n",
    "    wc[\"cul_pct_total\"] = wc[\"pct_total\"].cumsum()\n",
    "    \n",
    "    ac = pd.DataFrame(\n",
    "        zip(\n",
    "            appears_in.keys(),\n",
    "            appears_in.values(),\n",
    "        ),\n",
    "        columns = [\"word\", \"appears_in\"]\n",
    "    )\n",
    "    wc = ac.merge(wc, on=\"word\")\n",
    "    \n",
    "    wc[\"appears_in_pct\"] = wc[\"appears_in\"].apply(lambda x: x/num_docs)\n",
    "    return wc.sort_values(by=\"rank\")\n",
    "\n",
    "wc = count(shops[\"tokens\"])"
   ]
  },
  {
   "cell_type": "code",
   "execution_count": 89,
   "metadata": {},
   "outputs": [
    {
     "data": {
      "text/html": [
       "<div>\n",
       "<style scoped>\n",
       "    .dataframe tbody tr th:only-of-type {\n",
       "        vertical-align: middle;\n",
       "    }\n",
       "\n",
       "    .dataframe tbody tr th {\n",
       "        vertical-align: top;\n",
       "    }\n",
       "\n",
       "    .dataframe thead th {\n",
       "        text-align: right;\n",
       "    }\n",
       "</style>\n",
       "<table border=\"1\" class=\"dataframe\">\n",
       "  <thead>\n",
       "    <tr style=\"text-align: right;\">\n",
       "      <th></th>\n",
       "      <th>word</th>\n",
       "      <th>appears_in</th>\n",
       "      <th>count</th>\n",
       "      <th>rank</th>\n",
       "      <th>pct_total</th>\n",
       "      <th>cul_pct_total</th>\n",
       "      <th>appears_in_pct</th>\n",
       "    </tr>\n",
       "  </thead>\n",
       "  <tbody>\n",
       "    <tr>\n",
       "      <th>4</th>\n",
       "      <td>coffee</td>\n",
       "      <td>4905</td>\n",
       "      <td>10496</td>\n",
       "      <td>1.0</td>\n",
       "      <td>0.027317</td>\n",
       "      <td>0.027317</td>\n",
       "      <td>0.644039</td>\n",
       "    </tr>\n",
       "    <tr>\n",
       "      <th>100</th>\n",
       "      <td>place</td>\n",
       "      <td>3838</td>\n",
       "      <td>5906</td>\n",
       "      <td>2.0</td>\n",
       "      <td>0.015371</td>\n",
       "      <td>0.042688</td>\n",
       "      <td>0.503939</td>\n",
       "    </tr>\n",
       "    <tr>\n",
       "      <th>154</th>\n",
       "      <td>good</td>\n",
       "      <td>2846</td>\n",
       "      <td>4090</td>\n",
       "      <td>3.0</td>\n",
       "      <td>0.010645</td>\n",
       "      <td>0.053333</td>\n",
       "      <td>0.373687</td>\n",
       "    </tr>\n",
       "    <tr>\n",
       "      <th>129</th>\n",
       "      <td>great</td>\n",
       "      <td>2851</td>\n",
       "      <td>3941</td>\n",
       "      <td>4.0</td>\n",
       "      <td>0.010257</td>\n",
       "      <td>0.063590</td>\n",
       "      <td>0.374343</td>\n",
       "    </tr>\n",
       "    <tr>\n",
       "      <th>147</th>\n",
       "      <td>like</td>\n",
       "      <td>2251</td>\n",
       "      <td>3333</td>\n",
       "      <td>5.0</td>\n",
       "      <td>0.008674</td>\n",
       "      <td>0.072264</td>\n",
       "      <td>0.295562</td>\n",
       "    </tr>\n",
       "  </tbody>\n",
       "</table>\n",
       "</div>"
      ],
      "text/plain": [
       "       word  appears_in  count  rank  pct_total  cul_pct_total  appears_in_pct\n",
       "4    coffee        4905  10496   1.0   0.027317       0.027317        0.644039\n",
       "100   place        3838   5906   2.0   0.015371       0.042688        0.503939\n",
       "154    good        2846   4090   3.0   0.010645       0.053333        0.373687\n",
       "129   great        2851   3941   4.0   0.010257       0.063590        0.374343\n",
       "147    like        2251   3333   5.0   0.008674       0.072264        0.295562"
      ]
     },
     "execution_count": 89,
     "metadata": {},
     "output_type": "execute_result"
    }
   ],
   "source": [
    "wc.head()"
   ]
  },
  {
   "cell_type": "markdown",
   "metadata": {},
   "source": [
    "### separate ratings"
   ]
  },
  {
   "cell_type": "code",
   "execution_count": 90,
   "metadata": {},
   "outputs": [],
   "source": [
    "bad_shops = shops[shops[\"star_rating\"] < 3.0]\n",
    "good_shops = shops[shops[\"star_rating\"] >= 3.0]"
   ]
  },
  {
   "cell_type": "code",
   "execution_count": 91,
   "metadata": {},
   "outputs": [],
   "source": [
    "wc_bad = count(bad_shops[\"tokens\"])\n",
    "wc_good = count(good_shops[\"tokens\"])"
   ]
  },
  {
   "cell_type": "code",
   "execution_count": 92,
   "metadata": {},
   "outputs": [
    {
     "data": {
      "text/html": [
       "<div>\n",
       "<style scoped>\n",
       "    .dataframe tbody tr th:only-of-type {\n",
       "        vertical-align: middle;\n",
       "    }\n",
       "\n",
       "    .dataframe tbody tr th {\n",
       "        vertical-align: top;\n",
       "    }\n",
       "\n",
       "    .dataframe thead th {\n",
       "        text-align: right;\n",
       "    }\n",
       "</style>\n",
       "<table border=\"1\" class=\"dataframe\">\n",
       "  <thead>\n",
       "    <tr style=\"text-align: right;\">\n",
       "      <th></th>\n",
       "      <th>word</th>\n",
       "      <th>appears_in</th>\n",
       "      <th>count</th>\n",
       "      <th>rank</th>\n",
       "      <th>pct_total</th>\n",
       "      <th>cul_pct_total</th>\n",
       "      <th>appears_in_pct</th>\n",
       "    </tr>\n",
       "  </thead>\n",
       "  <tbody>\n",
       "    <tr>\n",
       "      <th>6</th>\n",
       "      <td>coffee</td>\n",
       "      <td>446</td>\n",
       "      <td>978</td>\n",
       "      <td>1.0</td>\n",
       "      <td>0.022492</td>\n",
       "      <td>0.022492</td>\n",
       "      <td>0.604336</td>\n",
       "    </tr>\n",
       "    <tr>\n",
       "      <th>32</th>\n",
       "      <td>place</td>\n",
       "      <td>370</td>\n",
       "      <td>608</td>\n",
       "      <td>2.0</td>\n",
       "      <td>0.013983</td>\n",
       "      <td>0.036475</td>\n",
       "      <td>0.501355</td>\n",
       "    </tr>\n",
       "    <tr>\n",
       "      <th>2</th>\n",
       "      <td>like</td>\n",
       "      <td>292</td>\n",
       "      <td>475</td>\n",
       "      <td>3.0</td>\n",
       "      <td>0.010924</td>\n",
       "      <td>0.047399</td>\n",
       "      <td>0.395664</td>\n",
       "    </tr>\n",
       "    <tr>\n",
       "      <th>39</th>\n",
       "      <td>order</td>\n",
       "      <td>233</td>\n",
       "      <td>435</td>\n",
       "      <td>4.0</td>\n",
       "      <td>0.010004</td>\n",
       "      <td>0.057403</td>\n",
       "      <td>0.315718</td>\n",
       "    </tr>\n",
       "    <tr>\n",
       "      <th>13</th>\n",
       "      <td>good</td>\n",
       "      <td>271</td>\n",
       "      <td>367</td>\n",
       "      <td>5.0</td>\n",
       "      <td>0.008440</td>\n",
       "      <td>0.065843</td>\n",
       "      <td>0.367209</td>\n",
       "    </tr>\n",
       "  </tbody>\n",
       "</table>\n",
       "</div>"
      ],
      "text/plain": [
       "      word  appears_in  count  rank  pct_total  cul_pct_total  appears_in_pct\n",
       "6   coffee         446    978   1.0   0.022492       0.022492        0.604336\n",
       "32   place         370    608   2.0   0.013983       0.036475        0.501355\n",
       "2     like         292    475   3.0   0.010924       0.047399        0.395664\n",
       "39   order         233    435   4.0   0.010004       0.057403        0.315718\n",
       "13    good         271    367   5.0   0.008440       0.065843        0.367209"
      ]
     },
     "execution_count": 92,
     "metadata": {},
     "output_type": "execute_result"
    }
   ],
   "source": [
    "wc_bad.head()"
   ]
  },
  {
   "cell_type": "code",
   "execution_count": 93,
   "metadata": {},
   "outputs": [
    {
     "data": {
      "text/html": [
       "<div>\n",
       "<style scoped>\n",
       "    .dataframe tbody tr th:only-of-type {\n",
       "        vertical-align: middle;\n",
       "    }\n",
       "\n",
       "    .dataframe tbody tr th {\n",
       "        vertical-align: top;\n",
       "    }\n",
       "\n",
       "    .dataframe thead th {\n",
       "        text-align: right;\n",
       "    }\n",
       "</style>\n",
       "<table border=\"1\" class=\"dataframe\">\n",
       "  <thead>\n",
       "    <tr style=\"text-align: right;\">\n",
       "      <th></th>\n",
       "      <th>word</th>\n",
       "      <th>appears_in</th>\n",
       "      <th>count</th>\n",
       "      <th>rank</th>\n",
       "      <th>pct_total</th>\n",
       "      <th>cul_pct_total</th>\n",
       "      <th>appears_in_pct</th>\n",
       "    </tr>\n",
       "  </thead>\n",
       "  <tbody>\n",
       "    <tr>\n",
       "      <th>4</th>\n",
       "      <td>coffee</td>\n",
       "      <td>4459</td>\n",
       "      <td>9518</td>\n",
       "      <td>1.0</td>\n",
       "      <td>0.027933</td>\n",
       "      <td>0.027933</td>\n",
       "      <td>0.648299</td>\n",
       "    </tr>\n",
       "    <tr>\n",
       "      <th>100</th>\n",
       "      <td>place</td>\n",
       "      <td>3468</td>\n",
       "      <td>5298</td>\n",
       "      <td>2.0</td>\n",
       "      <td>0.015548</td>\n",
       "      <td>0.043481</td>\n",
       "      <td>0.504216</td>\n",
       "    </tr>\n",
       "    <tr>\n",
       "      <th>129</th>\n",
       "      <td>great</td>\n",
       "      <td>2697</td>\n",
       "      <td>3735</td>\n",
       "      <td>3.0</td>\n",
       "      <td>0.010961</td>\n",
       "      <td>0.054442</td>\n",
       "      <td>0.392120</td>\n",
       "    </tr>\n",
       "    <tr>\n",
       "      <th>190</th>\n",
       "      <td>good</td>\n",
       "      <td>2575</td>\n",
       "      <td>3723</td>\n",
       "      <td>4.0</td>\n",
       "      <td>0.010926</td>\n",
       "      <td>0.065368</td>\n",
       "      <td>0.374382</td>\n",
       "    </tr>\n",
       "    <tr>\n",
       "      <th>215</th>\n",
       "      <td>its</td>\n",
       "      <td>1907</td>\n",
       "      <td>2902</td>\n",
       "      <td>5.0</td>\n",
       "      <td>0.008517</td>\n",
       "      <td>0.073885</td>\n",
       "      <td>0.277261</td>\n",
       "    </tr>\n",
       "  </tbody>\n",
       "</table>\n",
       "</div>"
      ],
      "text/plain": [
       "       word  appears_in  count  rank  pct_total  cul_pct_total  appears_in_pct\n",
       "4    coffee        4459   9518   1.0   0.027933       0.027933        0.648299\n",
       "100   place        3468   5298   2.0   0.015548       0.043481        0.504216\n",
       "129   great        2697   3735   3.0   0.010961       0.054442        0.392120\n",
       "190    good        2575   3723   4.0   0.010926       0.065368        0.374382\n",
       "215     its        1907   2902   5.0   0.008517       0.073885        0.277261"
      ]
     },
     "execution_count": 93,
     "metadata": {},
     "output_type": "execute_result"
    }
   ],
   "source": [
    "wc_good.head()"
   ]
  },
  {
   "cell_type": "markdown",
   "metadata": {},
   "source": [
    "## Can visualize the words with the greatest difference in counts between 'good' & 'bad'?\n",
    "\n",
    "Couple Notes: \n",
    "- Rel. freq. instead of absolute counts b/c of different numbers of reviews\n",
    "- Only look at the top 5-10 words with the greatest differences\n"
   ]
  },
  {
   "cell_type": "code",
   "execution_count": 94,
   "metadata": {},
   "outputs": [
    {
     "data": {
      "text/plain": [
       "<matplotlib.axes._subplots.AxesSubplot at 0x7fafb1be27d0>"
      ]
     },
     "execution_count": 94,
     "metadata": {},
     "output_type": "execute_result"
    },
    {
     "data": {
      "image/png": "[encoded data removed]",
      "text/plain": [
       "<Figure size 2016x1008 with 2 Axes>"
      ]
     },
     "metadata": {
      "needs_background": "light"
     },
     "output_type": "display_data"
    }
   ],
   "source": [
    "import squarify\n",
    "from matplotlib import pyplot as plt\n",
    "\n",
    "top20_bad = wc_bad[wc_bad[\"rank\"] <= 20]\n",
    "top20_good = wc_good[wc_good[\"rank\"] <= 20]\n",
    "\n",
    "fig, axes = plt.subplots(ncols=2, figsize=(28, 14))\n",
    "ax1, ax2 = axes\n",
    "\n",
    "ax1.set_title(\"Most Common Words in Negative Reviews\")\n",
    "squarify.plot(sizes=top20_bad[\"pct_total\"], label=wc_bad[\"word\"], ax=ax1)\n",
    "\n",
    "ax2.set_title(\"Most Common Words in Positive Reviews\")\n",
    "squarify.plot(sizes=top20_good[\"pct_total\"], label=wc_good[\"word\"], ax=ax2)"
   ]
  },
  {
   "cell_type": "code",
   "execution_count": 98,
   "metadata": {},
   "outputs": [
    {
     "data": {
      "text/plain": [
       "{'austin', 'friendly', 'latte', 'love', 'nice', 'shop', 'well'}"
      ]
     },
     "execution_count": 98,
     "metadata": {},
     "output_type": "execute_result"
    }
   ],
   "source": [
    "set(top20_good[\"word\"]) - set(top20_bad[\"word\"])"
   ]
  },
  {
   "cell_type": "code",
   "execution_count": 99,
   "metadata": {},
   "outputs": [
    {
     "data": {
      "text/plain": [
       "{'ask', 'dont', 'go', 'it', 'order', 'service', 'want'}"
      ]
     },
     "execution_count": 99,
     "metadata": {},
     "output_type": "execute_result"
    }
   ],
   "source": [
    "set(top20_bad[\"word\"]) - set(top20_good[\"word\"])"
   ]
  },
  {
   "cell_type": "markdown",
   "metadata": {
    "colab_type": "text",
    "id": "1dCb1q8XphcP",
    "toc-hr-collapsed": true
   },
   "source": [
    "## Stretch Goals\n",
    "\n",
    "* Analyze another corpus of documents - such as Indeed.com job listings ;).\n",
    "* Play with the Spacy API to\n",
    " - Extract Named Entities\n",
    " - Extracting 'noun chunks'\n",
    " - Attempt Document Classification with just Spacy\n",
    " - *Note:* This [course](https://course.spacy.io/) will be of interesting in helping you with these stretch goals. \n",
    "* Try to build a plotly dash app with your text data \n",
    "\n"
   ]
  }
 ],
 "metadata": {
  "colab": {
   "collapsed_sections": [],
   "name": "LS_DS_421_Text_Data_Assignment.ipynb",
   "provenance": [],
   "version": "0.3.2"
  },
  "kernelspec": {
   "display_name": "lambda_venv",
   "language": "python",
   "name": "lambda_venv"
  },
  "language_info": {
   "codemirror_mode": {
    "name": "ipython",
    "version": 3
   },
   "file_extension": ".py",
   "mimetype": "text/x-python",
   "name": "python",
   "nbconvert_exporter": "python",
   "pygments_lexer": "ipython3",
   "version": "3.6.9"
  },
  "toc-autonumbering": false
 },
 "nbformat": 4,
 "nbformat_minor": 4
}
