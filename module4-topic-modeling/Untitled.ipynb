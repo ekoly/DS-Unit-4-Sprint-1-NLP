{
 "cells": [
  {
   "cell_type": "code",
   "execution_count": 2,
   "metadata": {},
   "outputs": [],
   "source": [
    "import numpy as np"
   ]
  },
  {
   "cell_type": "code",
   "execution_count": 6,
   "metadata": {},
   "outputs": [
    {
     "name": "stderr",
     "output_type": "stream",
     "text": [
      "<ipython-input-6-2fbb99e48433>:1: DeprecationWarning: This function is deprecated. Please call randint(1, 1000 + 1) instead\n",
      "  my_ints = np.random.random_integers(1000, size=(100,))\n"
     ]
    },
    {
     "data": {
      "text/plain": [
       "array([947, 471, 101, 825, 497, 753, 941,  19, 854, 146, 559, 795,   7,\n",
       "       150, 541, 369, 908,  74, 969, 737, 622, 533, 253, 183, 664,  17,\n",
       "       667,  77, 945, 124, 872, 116, 370, 673, 250, 823, 498,  17, 162,\n",
       "       435, 359, 262, 161, 412, 883, 378, 702, 187, 364, 839, 738, 460,\n",
       "       315, 920, 376, 781,  39, 571, 402, 723, 958, 202, 801, 722, 330,\n",
       "       869, 516, 740, 840, 438, 450, 604, 550, 436,  85, 381, 938, 846,\n",
       "       207, 241, 692, 552, 769, 762, 320, 336, 290, 981, 389, 819, 204,\n",
       "       964, 805, 169, 559, 785, 235, 547, 240, 898])"
      ]
     },
     "execution_count": 6,
     "metadata": {},
     "output_type": "execute_result"
    }
   ],
   "source": [
    "my_ints = np.random.random_integers(1000, size=(100,))\n",
    "my_ints"
   ]
  },
  {
   "cell_type": "code",
   "execution_count": 7,
   "metadata": {},
   "outputs": [],
   "source": [
    "my_ints = sorted(my_ints)"
   ]
  },
  {
   "cell_type": "code",
   "execution_count": 11,
   "metadata": {},
   "outputs": [
    {
     "data": {
      "text/plain": [
       "False"
      ]
     },
     "execution_count": 11,
     "metadata": {},
     "output_type": "execute_result"
    }
   ],
   "source": [
    "def binarySearch(arr, x):\n",
    "    \n",
    "    lo, hi = 0, len(arr)-1\n",
    "    while lo < hi:\n",
    "        mid = (lo + hi) // 2\n",
    "        if arr[mid] == x:\n",
    "            return True\n",
    "        if arr[mid] > x:\n",
    "            hi = mid-1\n",
    "        else:\n",
    "            lo = mid+1\n",
    "    \n",
    "    return False\n",
    "\n",
    "binarySearch(my_ints, 102)"
   ]
  },
  {
   "cell_type": "code",
   "execution_count": null,
   "metadata": {},
   "outputs": [],
   "source": []
  }
 ],
 "metadata": {
  "kernelspec": {
   "display_name": "lambda_venv",
   "language": "python",
   "name": "lambda_venv"
  },
  "language_info": {
   "codemirror_mode": {
    "name": "ipython",
    "version": 3
   },
   "file_extension": ".py",
   "mimetype": "text/x-python",
   "name": "python",
   "nbconvert_exporter": "python",
   "pygments_lexer": "ipython3",
   "version": "3.8.5"
  }
 },
 "nbformat": 4,
 "nbformat_minor": 4
}
