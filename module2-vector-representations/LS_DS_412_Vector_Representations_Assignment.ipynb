{
 "cells": [
  {
   "cell_type": "markdown",
   "metadata": {
    "colab_type": "text",
    "id": "hrSUGFkuZiT4"
   },
   "source": [
    "<img align=\"left\" src=\"https://lever-client-logos.s3.amazonaws.com/864372b1-534c-480e-acd5-9711f850815c-1524247202159.png\" width=200>\n",
    "<br></br>\n",
    "\n",
    "# Vector Representations\n",
    "## *Data Science Unit 4 Sprint 2 Assignment 2*"
   ]
  },
  {
   "cell_type": "code",
   "execution_count": 13,
   "metadata": {
    "colab": {},
    "colab_type": "code",
    "id": "hyj-f9FDcVFp"
   },
   "outputs": [],
   "source": [
    "import re\n",
    "import string\n",
    "\n",
    "from sklearn.feature_extraction.text import CountVectorizer, TfidfVectorizer\n",
    "import matplotlib.pyplot as plt\n",
    "import pandas as pd\n",
    "import numpy as np\n",
    "import spacy\n",
    "\n",
    "from bs4 import BeautifulSoup"
   ]
  },
  {
   "cell_type": "markdown",
   "metadata": {
    "colab_type": "text",
    "id": "M7bcmqfGXrFG"
   },
   "source": [
    "## 1) *Clean:* Job Listings from indeed.com that contain the title \"Data Scientist\" \n",
    "\n",
    "You have `job_listings.csv` in the data folder for this module. The text data in the description column is still messy - full of html tags. Use the [BeautifulSoup](https://www.crummy.com/software/BeautifulSoup/bs4/doc/) library to clean up this column. You will need to read through the documentation to accomplish this task. "
   ]
  },
  {
   "cell_type": "code",
   "execution_count": 14,
   "metadata": {
    "colab": {
     "base_uri": "https://localhost:8080/",
     "height": 34
    },
    "colab_type": "code",
    "id": "VGZ72qiGZnwK",
    "outputId": "57911f60-07f0-4171-b8a7-df5a6ebc79bc"
   },
   "outputs": [
    {
     "name": "stdout",
     "output_type": "stream",
     "text": [
      "data\n",
      "data.tar.gz\n",
      "LS_DS_412_Vector_Representations_Assignment.ipynb\n",
      "LS_DS_412_Vector_Representations_Lecture.ipynb\n",
      "previous_lectures\n",
      "Untitled.ipynb\n"
     ]
    }
   ],
   "source": [
    "!ls"
   ]
  },
  {
   "cell_type": "code",
   "execution_count": 15,
   "metadata": {
    "colab": {
     "base_uri": "https://localhost:8080/",
     "height": 203
    },
    "colab_type": "code",
    "id": "KcYlc1URXhlC",
    "outputId": "36462fea-4e87-4412-8576-e2affde7c95e"
   },
   "outputs": [
    {
     "data": {
      "text/html": [
       "<div>\n",
       "<style scoped>\n",
       "    .dataframe tbody tr th:only-of-type {\n",
       "        vertical-align: middle;\n",
       "    }\n",
       "\n",
       "    .dataframe tbody tr th {\n",
       "        vertical-align: top;\n",
       "    }\n",
       "\n",
       "    .dataframe thead th {\n",
       "        text-align: right;\n",
       "    }\n",
       "</style>\n",
       "<table border=\"1\" class=\"dataframe\">\n",
       "  <thead>\n",
       "    <tr style=\"text-align: right;\">\n",
       "      <th></th>\n",
       "      <th>Unnamed: 0</th>\n",
       "      <th>description</th>\n",
       "      <th>title</th>\n",
       "    </tr>\n",
       "  </thead>\n",
       "  <tbody>\n",
       "    <tr>\n",
       "      <th>0</th>\n",
       "      <td>0</td>\n",
       "      <td>b\"&lt;div&gt;&lt;div&gt;Job Requirements:&lt;/div&gt;&lt;ul&gt;&lt;li&gt;&lt;p&gt;...</td>\n",
       "      <td>Data scientist</td>\n",
       "    </tr>\n",
       "    <tr>\n",
       "      <th>1</th>\n",
       "      <td>1</td>\n",
       "      <td>b'&lt;div&gt;Job Description&lt;br/&gt;\\n&lt;br/&gt;\\n&lt;p&gt;As a Da...</td>\n",
       "      <td>Data Scientist I</td>\n",
       "    </tr>\n",
       "    <tr>\n",
       "      <th>2</th>\n",
       "      <td>2</td>\n",
       "      <td>b'&lt;div&gt;&lt;p&gt;As a Data Scientist you will be work...</td>\n",
       "      <td>Data Scientist - Entry Level</td>\n",
       "    </tr>\n",
       "    <tr>\n",
       "      <th>3</th>\n",
       "      <td>3</td>\n",
       "      <td>b'&lt;div class=\"jobsearch-JobMetadataHeader icl-...</td>\n",
       "      <td>Data Scientist</td>\n",
       "    </tr>\n",
       "    <tr>\n",
       "      <th>4</th>\n",
       "      <td>4</td>\n",
       "      <td>b'&lt;ul&gt;&lt;li&gt;Location: USA \\xe2\\x80\\x93 multiple ...</td>\n",
       "      <td>Data Scientist</td>\n",
       "    </tr>\n",
       "  </tbody>\n",
       "</table>\n",
       "</div>"
      ],
      "text/plain": [
       "   Unnamed: 0                                        description  \\\n",
       "0           0  b\"<div><div>Job Requirements:</div><ul><li><p>...   \n",
       "1           1  b'<div>Job Description<br/>\\n<br/>\\n<p>As a Da...   \n",
       "2           2  b'<div><p>As a Data Scientist you will be work...   \n",
       "3           3  b'<div class=\"jobsearch-JobMetadataHeader icl-...   \n",
       "4           4  b'<ul><li>Location: USA \\xe2\\x80\\x93 multiple ...   \n",
       "\n",
       "                          title  \n",
       "0               Data scientist   \n",
       "1              Data Scientist I  \n",
       "2  Data Scientist - Entry Level  \n",
       "3                Data Scientist  \n",
       "4                Data Scientist  "
      ]
     },
     "execution_count": 15,
     "metadata": {},
     "output_type": "execute_result"
    }
   ],
   "source": [
    "from bs4 import BeautifulSoup\n",
    "import requests\n",
    "\n",
    "##### Your Code Here #####\n",
    "df = pd.read_csv(\"https://github.com/ekoly/DS-Unit-4-Sprint-1-NLP/raw/master/module2-vector-representations/data/job_listings.csv\")\n",
    "df.head()"
   ]
  },
  {
   "cell_type": "code",
   "execution_count": 16,
   "metadata": {
    "colab": {
     "base_uri": "https://localhost:8080/",
     "height": 203
    },
    "colab_type": "code",
    "id": "-AYefLBeZiUH",
    "outputId": "53c538fd-b8b9-416b-82c1-45009e6381ca"
   },
   "outputs": [
    {
     "data": {
      "text/html": [
       "<div>\n",
       "<style scoped>\n",
       "    .dataframe tbody tr th:only-of-type {\n",
       "        vertical-align: middle;\n",
       "    }\n",
       "\n",
       "    .dataframe tbody tr th {\n",
       "        vertical-align: top;\n",
       "    }\n",
       "\n",
       "    .dataframe thead th {\n",
       "        text-align: right;\n",
       "    }\n",
       "</style>\n",
       "<table border=\"1\" class=\"dataframe\">\n",
       "  <thead>\n",
       "    <tr style=\"text-align: right;\">\n",
       "      <th></th>\n",
       "      <th>Unnamed: 0</th>\n",
       "      <th>description</th>\n",
       "      <th>title</th>\n",
       "    </tr>\n",
       "  </thead>\n",
       "  <tbody>\n",
       "    <tr>\n",
       "      <th>0</th>\n",
       "      <td>0</td>\n",
       "      <td>b\" Job Requirements:  Conceptual understanding...</td>\n",
       "      <td>Data scientist</td>\n",
       "    </tr>\n",
       "    <tr>\n",
       "      <th>1</th>\n",
       "      <td>1</td>\n",
       "      <td>b' Job Description     As a Data Scientist 1, ...</td>\n",
       "      <td>Data Scientist I</td>\n",
       "    </tr>\n",
       "    <tr>\n",
       "      <th>2</th>\n",
       "      <td>2</td>\n",
       "      <td>b' As a Data Scientist you will be working on ...</td>\n",
       "      <td>Data Scientist - Entry Level</td>\n",
       "    </tr>\n",
       "    <tr>\n",
       "      <th>3</th>\n",
       "      <td>3</td>\n",
       "      <td>b' $4,969 - $6,756 a month Contract Under the ...</td>\n",
       "      <td>Data Scientist</td>\n",
       "    </tr>\n",
       "    <tr>\n",
       "      <th>4</th>\n",
       "      <td>4</td>\n",
       "      <td>b' Location: USA \\xe2\\x80\\x93 multiple locatio...</td>\n",
       "      <td>Data Scientist</td>\n",
       "    </tr>\n",
       "  </tbody>\n",
       "</table>\n",
       "</div>"
      ],
      "text/plain": [
       "   Unnamed: 0                                        description  \\\n",
       "0           0  b\" Job Requirements:  Conceptual understanding...   \n",
       "1           1  b' Job Description     As a Data Scientist 1, ...   \n",
       "2           2  b' As a Data Scientist you will be working on ...   \n",
       "3           3  b' $4,969 - $6,756 a month Contract Under the ...   \n",
       "4           4  b' Location: USA \\xe2\\x80\\x93 multiple locatio...   \n",
       "\n",
       "                          title  \n",
       "0               Data scientist   \n",
       "1              Data Scientist I  \n",
       "2  Data Scientist - Entry Level  \n",
       "3                Data Scientist  \n",
       "4                Data Scientist  "
      ]
     },
     "execution_count": 16,
     "metadata": {},
     "output_type": "execute_result"
    }
   ],
   "source": [
    "df[\"description\"] = df[\"description\"].apply(lambda s: \" \".join(BeautifulSoup(s, \"html.parser\").stripped_strings).replace(\"\\\\n\", \" \"))\n",
    "df.head()"
   ]
  },
  {
   "cell_type": "markdown",
   "metadata": {
    "colab_type": "text",
    "id": "5C4xFZNtX1m2"
   },
   "source": [
    "## 2) Use Spacy to tokenize the listings "
   ]
  },
  {
   "cell_type": "code",
   "execution_count": 17,
   "metadata": {
    "colab": {
     "base_uri": "https://localhost:8080/",
     "height": 248
    },
    "colab_type": "code",
    "id": "V36rliGoZ84O",
    "outputId": "cc0bc657-09b9-4fa0-a362-3d3c9afa8f69"
   },
   "outputs": [],
   "source": [
    "try:\n",
    "    nlp = spacy.load(\"en_core_web_lg\")\n",
    "except:\n",
    "    !python -m spacy download en_core_web_lg\n",
    "    nlp = spacy.load(\"en_core_web_lg\")"
   ]
  },
  {
   "cell_type": "code",
   "execution_count": 18,
   "metadata": {
    "colab": {},
    "colab_type": "code",
    "id": "dhUHuMr-X-II"
   },
   "outputs": [],
   "source": [
    "from spacy.lang.en import English\n",
    "from spacy.tokenizer import Tokenizer\n",
    "\n",
    "tokenizer = Tokenizer(nlp.vocab)\n",
    "\n",
    "tokens = []\n",
    "for doc in tokenizer.pipe(df[\"description\"], batch_size=500):\n",
    "    doc_tokens = [\n",
    "        re.sub(r\"[^a-z0-9]\", \"\", t.lemma_.lower()).strip() for t in doc\n",
    "        if not t.is_stop and not t.is_punct and t.text.strip()\n",
    "    ]\n",
    "    tokens.append(\" \".join(doc_tokens))\n",
    "\n",
    "df[\"tokens\"] = tokens"
   ]
  },
  {
   "cell_type": "markdown",
   "metadata": {
    "colab_type": "text",
    "id": "-lgCZNL_YycP"
   },
   "source": [
    "## 3) Use Scikit-Learn's CountVectorizer to get word counts for each listing."
   ]
  },
  {
   "cell_type": "code",
   "execution_count": 19,
   "metadata": {
    "colab": {},
    "colab_type": "code",
    "id": "X2PZ8Pj_YxcF"
   },
   "outputs": [],
   "source": [
    "from sklearn.feature_extraction.text import CountVectorizer\n",
    "\n",
    "cv = CountVectorizer()\n",
    "counts = cv.fit_transform(df[\"tokens\"])"
   ]
  },
  {
   "cell_type": "code",
   "execution_count": 8,
   "metadata": {
    "colab": {
     "base_uri": "https://localhost:8080/",
     "height": 52
    },
    "colab_type": "code",
    "id": "1Fd3hEnqcOJh",
    "outputId": "d86abfa1-7c93-4a45-8d54-7b02015e52c6"
   },
   "outputs": [
    {
     "name": "stdout",
     "output_type": "stream",
     "text": [
      "Looking in indexes: https://test.pypi.org/simple/\n",
      "Requirement already satisfied: five-one-one in /home/ecow/venv/lambda/lib/python3.6/site-packages (0.2.5)\n",
      "Requirement already satisfied: spacy in /home/ecow/venv/lambda/lib/python3.6/site-packages (from five-one-one) (2.2.3)\n",
      "Requirement already satisfied: pandas in /home/ecow/venv/lambda/lib/python3.6/site-packages (from five-one-one) (1.0.3)\n",
      "Requirement already satisfied: numpy in /home/ecow/venv/lambda/lib/python3.6/site-packages (from five-one-one) (1.18.3)\n",
      "Requirement already satisfied: setuptools in /home/ecow/venv/lambda/lib/python3.6/site-packages (from spacy->five-one-one) (46.1.1)\n",
      "Requirement already satisfied: murmurhash<1.1.0,>=0.28.0 in /home/ecow/venv/lambda/lib/python3.6/site-packages (from spacy->five-one-one) (1.0.2)\n",
      "Requirement already satisfied: catalogue<1.1.0,>=0.0.7 in /home/ecow/venv/lambda/lib/python3.6/site-packages (from spacy->five-one-one) (1.0.0)\n",
      "Requirement already satisfied: thinc<7.4.0,>=7.3.0 in /home/ecow/venv/lambda/lib/python3.6/site-packages (from spacy->five-one-one) (7.3.1)\n",
      "Requirement already satisfied: plac<1.2.0,>=0.9.6 in /home/ecow/venv/lambda/lib/python3.6/site-packages (from spacy->five-one-one) (1.1.3)\n",
      "Requirement already satisfied: cymem<2.1.0,>=2.0.2 in /home/ecow/venv/lambda/lib/python3.6/site-packages (from spacy->five-one-one) (2.0.3)\n",
      "Requirement already satisfied: requests<3.0.0,>=2.13.0 in /home/ecow/venv/lambda/lib/python3.6/site-packages (from spacy->five-one-one) (2.24.0)\n",
      "Requirement already satisfied: preshed<3.1.0,>=3.0.2 in /home/ecow/venv/lambda/lib/python3.6/site-packages (from spacy->five-one-one) (3.0.2)\n",
      "Requirement already satisfied: wasabi<1.1.0,>=0.4.0 in /home/ecow/venv/lambda/lib/python3.6/site-packages (from spacy->five-one-one) (0.6.0)\n",
      "Requirement already satisfied: blis<0.5.0,>=0.4.0 in /home/ecow/venv/lambda/lib/python3.6/site-packages (from spacy->five-one-one) (0.4.1)\n",
      "Requirement already satisfied: srsly<1.1.0,>=0.1.0 in /home/ecow/venv/lambda/lib/python3.6/site-packages (from spacy->five-one-one) (1.0.2)\n",
      "Requirement already satisfied: python-dateutil>=2.6.1 in /home/ecow/venv/lambda/lib/python3.6/site-packages (from pandas->five-one-one) (2.8.1)\n",
      "Requirement already satisfied: pytz>=2017.2 in /home/ecow/venv/lambda/lib/python3.6/site-packages (from pandas->five-one-one) (2019.3)\n",
      "Requirement already satisfied: importlib-metadata>=0.20; python_version < \"3.8\" in /home/ecow/venv/lambda/lib/python3.6/site-packages (from catalogue<1.1.0,>=0.0.7->spacy->five-one-one) (1.6.0)\n",
      "Requirement already satisfied: tqdm<5.0.0,>=4.10.0 in /home/ecow/venv/lambda/lib/python3.6/site-packages (from thinc<7.4.0,>=7.3.0->spacy->five-one-one) (4.42.0)\n",
      "Requirement already satisfied: certifi>=2017.4.17 in /home/ecow/venv/lambda/lib/python3.6/site-packages (from requests<3.0.0,>=2.13.0->spacy->five-one-one) (2020.4.5.1)\n",
      "Requirement already satisfied: idna<3,>=2.5 in /home/ecow/venv/lambda/lib/python3.6/site-packages (from requests<3.0.0,>=2.13.0->spacy->five-one-one) (2.9)\n",
      "Requirement already satisfied: urllib3!=1.25.0,!=1.25.1,<1.26,>=1.21.1 in /home/ecow/venv/lambda/lib/python3.6/site-packages (from requests<3.0.0,>=2.13.0->spacy->five-one-one) (1.25.9)\n",
      "Requirement already satisfied: chardet<4,>=3.0.2 in /home/ecow/venv/lambda/lib/python3.6/site-packages (from requests<3.0.0,>=2.13.0->spacy->five-one-one) (3.0.4)\n",
      "Requirement already satisfied: six>=1.5 in /home/ecow/venv/lambda/lib/python3.6/site-packages (from python-dateutil>=2.6.1->pandas->five-one-one) (1.14.0)\n",
      "Requirement already satisfied: zipp>=0.5 in /home/ecow/venv/lambda/lib/python3.6/site-packages (from importlib-metadata>=0.20; python_version < \"3.8\"->catalogue<1.1.0,>=0.0.7->spacy->five-one-one) (3.1.0)\n"
     ]
    }
   ],
   "source": [
    "!pip install -i https://test.pypi.org/simple/ five-one-one"
   ]
  },
  {
   "cell_type": "code",
   "execution_count": 9,
   "metadata": {},
   "outputs": [],
   "source": [
    "from FiveOneOne import nlp_utils"
   ]
  },
  {
   "cell_type": "markdown",
   "metadata": {
    "colab_type": "text",
    "id": "Zo1iH_UeY7_n"
   },
   "source": [
    "## 4) Visualize the most common word counts"
   ]
  },
  {
   "cell_type": "code",
   "execution_count": 10,
   "metadata": {
    "colab": {
     "base_uri": "https://localhost:8080/",
     "height": 54
    },
    "colab_type": "code",
    "id": "M5LB00uyZKV5",
    "outputId": "86b1b54b-fded-4c55-d463-31d94a4ed875"
   },
   "outputs": [
    {
     "name": "stdout",
     "output_type": "stream",
     "text": [
      "[('data', 4278), ('experience', 1874), ('business', 1185), ('work', 1144), ('team', 963), ('science', 934), ('learning', 900), ('analytics', 719), ('skills', 686), ('machine', 683), ('analysis', 677), ('models', 614), ('product', 569), ('statistical', 562), ('solutions', 528), ('new', 527), ('ability', 520), ('scientist', 495), ('insights', 462), ('help', 456)]\n"
     ]
    }
   ],
   "source": [
    "from collections import Counter\n",
    "\n",
    "counts = Counter()\n",
    "for row in df[\"tokens\"]:\n",
    "    counts.update(row.split(\" \"))\n",
    "\n",
    "print(counts.most_common(20))"
   ]
  },
  {
   "cell_type": "code",
   "execution_count": 11,
   "metadata": {
    "colab": {
     "base_uri": "https://localhost:8080/",
     "height": 87
    },
    "colab_type": "code",
    "id": "dJsjjmrCejtW",
    "outputId": "6f8e6030-7c5e-4b34-a600-c6f3bba88ab4"
   },
   "outputs": [
    {
     "name": "stdout",
     "output_type": "stream",
     "text": [
      "Requirement already satisfied: squarify in /home/ecow/venv/lambda/lib/python3.6/site-packages (0.4.3)\n"
     ]
    }
   ],
   "source": [
    "!pip install squarify"
   ]
  },
  {
   "cell_type": "code",
   "execution_count": 12,
   "metadata": {
    "colab": {
     "base_uri": "https://localhost:8080/",
     "height": 286
    },
    "colab_type": "code",
    "id": "VFZ9bd_oeDff",
    "outputId": "bc5ad5b6-cfd2-4e87-ca3f-d7c2c3f7e66a"
   },
   "outputs": [
    {
     "data": {
      "text/plain": [
       "<matplotlib.axes._subplots.AxesSubplot at 0x7f7b6c6a9278>"
      ]
     },
     "execution_count": 12,
     "metadata": {},
     "output_type": "execute_result"
    },
    {
     "data": {
      "image/png": "[encoded data removed]",
      "text/plain": [
       "<Figure size 432x288 with 1 Axes>"
      ]
     },
     "metadata": {
      "needs_background": "light"
     },
     "output_type": "display_data"
    }
   ],
   "source": [
    "import squarify\n",
    "\n",
    "mc = counts.most_common(20)\n",
    "squarify.plot(sizes=[c for w, c in mc], label=[w for w, c in mc])"
   ]
  },
  {
   "cell_type": "markdown",
   "metadata": {
    "colab_type": "text",
    "id": "bwFsTqrVZMYi"
   },
   "source": [
    "## 5) Use Scikit-Learn's tfidfVectorizer to get a TF-IDF feature matrix"
   ]
  },
  {
   "cell_type": "code",
   "execution_count": null,
   "metadata": {
    "colab": {},
    "colab_type": "code",
    "id": "_d9hGi59fBNK"
   },
   "outputs": [],
   "source": [
    "from sklearn.feature_extraction.text import TfidfVectorizer\n",
    "vectorizer = TfidfVectorizer()\n"
   ]
  },
  {
   "cell_type": "code",
   "execution_count": 29,
   "metadata": {
    "colab": {
     "base_uri": "https://localhost:8080/",
     "height": 52
    },
    "colab_type": "code",
    "id": "GjJbK1aafZts",
    "outputId": "5f53f1e1-355f-4650-e609-c600dfec72e5"
   },
   "outputs": [
    {
     "data": {
      "text/plain": [
       "<426x9026 sparse matrix of type '<class 'numpy.float64'>'\n",
       "\twith 91609 stored elements in Compressed Sparse Row format>"
      ]
     },
     "execution_count": 29,
     "metadata": {
      "tags": []
     },
     "output_type": "execute_result"
    }
   ],
   "source": [
    "X = vectorizer.fit_transform(df[\"tokens\"])\n",
    "X"
   ]
  },
  {
   "cell_type": "code",
   "execution_count": null,
   "metadata": {
    "colab": {},
    "colab_type": "code",
    "id": "-gx2gZCbl5Np"
   },
   "outputs": [],
   "source": []
  },
  {
   "cell_type": "markdown",
   "metadata": {
    "colab_type": "text",
    "id": "BX_zih_tZiUk"
   },
   "source": [
    "## 6) Create a NearestNeighbor Model. Write the description of your ideal datascience job and query your job listings. "
   ]
  },
  {
   "cell_type": "code",
   "execution_count": 35,
   "metadata": {
    "colab": {
     "base_uri": "https://localhost:8080/",
     "height": 52
    },
    "colab_type": "code",
    "collapsed": false,
    "id": "XeVSZKVfZiUl",
    "inputHidden": false,
    "jupyter": {
     "outputs_hidden": false
    },
    "outputHidden": false,
    "outputId": "57ccd54f-b9bb-4c18-b8cf-1163174c9cf6"
   },
   "outputs": [
    {
     "data": {
      "text/plain": [
       "<1x9026 sparse matrix of type '<class 'numpy.float64'>'\n",
       "\twith 7 stored elements in Compressed Sparse Row format>"
      ]
     },
     "execution_count": 35,
     "metadata": {
      "tags": []
     },
     "output_type": "execute_result"
    }
   ],
   "source": [
    "my_desc = \"Looking for a data engineer to help us build terminator robots for world domination\"\n",
    "\n",
    "# TODO make function\n",
    "tokens = []\n",
    "for doc in tokenizer.pipe([my_desc], batch_size=500):\n",
    "    doc_tokens = [\n",
    "        re.sub(r\"[^a-z0-9]\", \"\", t.lemma_.lower()).strip() for t in doc\n",
    "        if not t.is_stop and not t.is_punct and t.text.strip()\n",
    "    ]\n",
    "    tokens.append(\" \".join(doc_tokens))\n",
    "\n",
    "X_test = tokens\n",
    "X_test = vectorizer.transform(X_test)\n",
    "X_test"
   ]
  },
  {
   "cell_type": "code",
   "execution_count": 33,
   "metadata": {
    "colab": {
     "base_uri": "https://localhost:8080/",
     "height": 70
    },
    "colab_type": "code",
    "id": "D5fjefOzhJL5",
    "outputId": "7f4a3a07-0346-47a8-972a-d346d8735548"
   },
   "outputs": [
    {
     "data": {
      "text/plain": [
       "NearestNeighbors(algorithm='auto', leaf_size=30, metric='minkowski',\n",
       "                 metric_params=None, n_jobs=None, n_neighbors=2, p=2,\n",
       "                 radius=1.0)"
      ]
     },
     "execution_count": 33,
     "metadata": {
      "tags": []
     },
     "output_type": "execute_result"
    }
   ],
   "source": [
    "from sklearn.neighbors import NearestNeighbors\n",
    "\n",
    "nn = NearestNeighbors(n_neighbors=2)\n",
    "nn.fit(X)"
   ]
  },
  {
   "cell_type": "code",
   "execution_count": 47,
   "metadata": {
    "colab": {
     "base_uri": "https://localhost:8080/",
     "height": 34
    },
    "colab_type": "code",
    "id": "ptm317ZphU18",
    "outputId": "d3ab5504-06e4-4de4-e04b-8d5537f91775"
   },
   "outputs": [
    {
     "data": {
      "text/plain": [
       "array([[261, 139]])"
      ]
     },
     "execution_count": 47,
     "metadata": {
      "tags": []
     },
     "output_type": "execute_result"
    }
   ],
   "source": [
    "_, indices = nn.kneighbors(X_test)\n",
    "indices"
   ]
  },
  {
   "cell_type": "code",
   "execution_count": 50,
   "metadata": {
    "colab": {
     "base_uri": "https://localhost:8080/",
     "height": 54
    },
    "colab_type": "code",
    "id": "3pNYD6EbiLMj",
    "outputId": "6d348abf-b249-4a80-c039-98076fd08ca5"
   },
   "outputs": [
    {
     "data": {
      "text/plain": [
       "\"b' Looking to make a big impact and revolutionize the next frontier of programmatic buying ? LiveReach Media plans to disrupt the Digital Out-of-Home market by producing a world class industry leading programmatic platform and bring the online media buying experience to the Digital-Out-of-Home market. As a data scientist, you will work with large complex data sets to drive product improvement, implement dashboards and data visualizations for an industry leading platform, and mine massive sets of unique user data collected through LRM\\\\xe2\\\\x80\\\\x99s proprietary methodology.  Location: Sunnyvale, California  Education & Experience: 3+ years of work experience, Bachelors Degree or higher in Statistics/Economics/Quantitative Academic  Field Preferred  Functions: Data Science, Engineering  Requirements  Experience with pattern recognition, natural language processing, and mining of structured, semi-structured, and unstructured data  Experience with large log data processing and analysis tools, such as Splunk, ElasticSearch, Logstash, Kibana, etc.  Experience with statistical software (e.g., R, Julia, MATLAB, pandas) and database languages (e.g., SQL)  Experience in data mining and predictive analytics using large data sets  Experience with data visualization and geographical mapping of multiple related data sets in a meaningful way  Strong analytical and critical thinking skills  Excellent verbal and written communication skills  Ability to work with incomplete and messy data to extract usable information  Please send your resume to careers@livereachmedia.com if interested. '\""
      ]
     },
     "execution_count": 50,
     "metadata": {
      "tags": []
     },
     "output_type": "execute_result"
    }
   ],
   "source": [
    "df.iloc[139][\"description\"]"
   ]
  },
  {
   "cell_type": "code",
   "execution_count": 51,
   "metadata": {
    "colab": {
     "base_uri": "https://localhost:8080/",
     "height": 54
    },
    "colab_type": "code",
    "id": "bF02ZXcuik-I",
    "outputId": "5be1632c-1513-42b0-ba49-8df416369402"
   },
   "outputs": [
    {
     "data": {
      "text/plain": [
       "\"b' The Data Science Engineer, Mintel Futures is a core part of Mintel\\\\xe2\\\\x80\\\\x99s data science team that will have the opportunity to work on a wide array of initiatives across varying aspects of Mintel\\\\xe2\\\\x80\\\\x99s business and data. This individual will help manage the full analytics lifecycle of advanced projects; help to identify new, impactful ways to apply machine learning to Mintel\\\\xe2\\\\x80\\\\x99s data; work alongside data scientists and business stakeholders to implement solutions that provide valuable insights; and aide in the design and development of a modern data analytics environment.    What You Will Do:     Play an integral role in shaping the underlying technology environment for Mintel\\\\xe2\\\\x80\\\\x99s fast growing team of data scientists and data analysts   Assist in the acquisition and management of a variety of data sources for large-scale analysis   Identify opportunities for predictive modeling or other machine learning techniques and experiment with solutions that focus on adding value to our clients and analysts   Work alongside software engineers and other data scientists to ensure the proper deployment, management and monitoring of machine learning models and/or other data pipelines in Mintel\\\\xe2\\\\x80\\\\x99s production platforms   Grow the technical and engineering capabilities of other data scientists and data analysts on the team   Develop engineering best practices, documentation and process flows that facilitate collaboration and knowledge transfer   Continually learn - as a part of a fluid, innovation focused team, you will stay current on emerging data science and data engineering technologies       What We Are Looking For:     3+ years professional experience with building data focused solutions (integrations, pipelines, data warehousing, etc.)   1+ years professional experience as a data scientist or machine learning engineer preferred and/or having demonstrable analytical capability and working knowledge of data science principles   Proficient engineer with the ability to lead the deployment of machine learning or other analytical models   Expert level SQL skills and expert level proficiency in at least one programming language (Python, C++, Java, etc.)   Strong communication skills with the ability to converse with both technical and non-technical stakeholders   Team player with a collaborative nature   Strong work ethic with an inherent sense of ownership and responsibility   Experience building data solutions in at least one public cloud environment, AWS or GCP preferred   Advanced degree holder in a STEM or related quantitative discipline preferred   Equal Opportunity Employer: Race/Color/Sex/Sexual Orientation/Gender Identity/Religion/National Origin/Disability/Vets '\""
      ]
     },
     "execution_count": 51,
     "metadata": {
      "tags": []
     },
     "output_type": "execute_result"
    }
   ],
   "source": [
    "df.iloc[261][\"description\"]"
   ]
  },
  {
   "cell_type": "markdown",
   "metadata": {
    "colab_type": "text",
    "id": "FiDfTWceoRkH"
   },
   "source": [
    "## Stretch Goals\n",
    "\n",
    " - Try different visualizations for words and frequencies - what story do you want to tell with the data?\n",
    " - Scrape Job Listings for the job title \"Data Analyst\". How do these differ from Data Scientist Job Listings\n",
    " - Try and identify requirements for experience specific technologies that are asked for in the job listings. How are those distributed among the job listings?\n",
    " - Use a clustering algorithm to cluster documents by their most important terms. Do the clusters reveal any common themes?\n",
    "  - **Hint:** K-means might not be the best algorithm for this. Do a little bit of research to see what might be good for this. Also, remember that algorithms that depend on Euclidean distance break down with high dimensional data.\n",
    " - Create a labeled dataset - which jobs will you apply for? Train a model to select the jobs you are most likely to apply for. :) "
   ]
  },
  {
   "cell_type": "code",
   "execution_count": null,
   "metadata": {
    "colab": {},
    "colab_type": "code",
    "id": "6l-D0V7ChUMv"
   },
   "outputs": [],
   "source": []
  }
 ],
 "metadata": {
  "colab": {
   "collapsed_sections": [],
   "name": "LS_DS_422_BOW_Assignment.ipynb",
   "provenance": []
  },
  "kernel_info": {
   "name": "python3"
  },
  "kernelspec": {
   "display_name": "lambda_venv",
   "language": "python",
   "name": "lambda_venv"
  },
  "language_info": {
   "codemirror_mode": {
    "name": "ipython",
    "version": 3
   },
   "file_extension": ".py",
   "mimetype": "text/x-python",
   "name": "python",
   "nbconvert_exporter": "python",
   "pygments_lexer": "ipython3",
   "version": "3.6.9"
  },
  "nteract": {
   "version": "0.14.3"
  }
 },
 "nbformat": 4,
 "nbformat_minor": 4
}
